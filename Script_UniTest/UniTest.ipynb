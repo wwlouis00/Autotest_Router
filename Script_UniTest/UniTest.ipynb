{
 "cells": [
  {
   "cell_type": "markdown",
   "metadata": {},
   "source": [
    "## 測試寄信\n",
    "jenkins.wireless@gmail.com"
   ]
  },
  {
   "cell_type": "code",
   "execution_count": 2,
   "metadata": {},
   "outputs": [
    {
     "name": "stdout",
     "output_type": "stream",
     "text": [
      "Email has been sent to LouisWT_Wang@asus.com\n"
     ]
    }
   ],
   "source": [
    "import smtplib\n",
    "\n",
    "email = 'jenkins.wireless@gmail.com'\n",
    "receiver_email = input(\"請輸入收件人郵件地址: \")\n",
    "\n",
    "subject = 'gmail python test'\n",
    "message = 'you send finish'\n",
    "text = f'subject: {subject}\\n\\n{message}'\n",
    "\n",
    "server = smtplib.SMTP('smtp.gmail.com', 587)\n",
    "server.starttls()\n",
    "server.login(email, 'vbnslfmnslutyzyf')\n",
    "\n",
    "server.sendmail(email, receiver_email, text)\n",
    "\n",
    "print(\"Email has been sent to \" + receiver_email)"
   ]
  },
  {
   "cell_type": "markdown",
   "metadata": {},
   "source": [
    "## 列出網路介面"
   ]
  },
  {
   "cell_type": "code",
   "execution_count": 5,
   "metadata": {},
   "outputs": [
    {
     "name": "stdout",
     "output_type": "stream",
     "text": [
      "Interface: 乙太網路 2, IP: 169.254.58.19\n",
      "Interface: 乙太網路 2, IP: 192.168.50.21\n",
      "Interface: 乙太網路, IP: 169.254.236.164\n",
      "Interface: 乙太網路, IP: 192.168.1.19\n",
      "Interface: 區域連線* 1, IP: 169.254.60.154\n",
      "Interface: 區域連線* 2, IP: 169.254.69.2\n",
      "Interface: Wi-Fi, IP: 192.168.92.244\n",
      "Interface: 藍牙網路連線, IP: 169.254.170.207\n",
      "Interface: Loopback Pseudo-Interface 1, IP: 127.0.0.1\n"
     ]
    }
   ],
   "source": [
    "import psutil\n",
    "\n",
    "def get_ethernet_ips():\n",
    "    ips = []\n",
    "    for interface, addrs in psutil.net_if_addrs().items():\n",
    "        for addr in addrs:\n",
    "            if addr.family == 2:  # AF_INET (IPv4)\n",
    "                ips.append((interface, addr.address))\n",
    "    return ips\n",
    "\n",
    "for iface, ip in get_ethernet_ips():\n",
    "    print(f\"Interface: {iface}, IP: {ip}\")\n"
   ]
  }
 ],
 "metadata": {
  "kernelspec": {
   "display_name": "Python 3",
   "language": "python",
   "name": "python3"
  },
  "language_info": {
   "codemirror_mode": {
    "name": "ipython",
    "version": 3
   },
   "file_extension": ".py",
   "mimetype": "text/x-python",
   "name": "python",
   "nbconvert_exporter": "python",
   "pygments_lexer": "ipython3",
   "version": "3.11.6"
  }
 },
 "nbformat": 4,
 "nbformat_minor": 2
}
